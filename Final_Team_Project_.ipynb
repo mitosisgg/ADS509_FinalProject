{
  "nbformat": 4,
  "nbformat_minor": 0,
  "metadata": {
    "colab": {
      "private_outputs": true,
      "provenance": [],
      "authorship_tag": "ABX9TyOjCD1winRB4Wu3cMe5vau2",
      "include_colab_link": true
    },
    "kernelspec": {
      "name": "python3",
      "display_name": "Python 3"
    },
    "language_info": {
      "name": "python"
    }
  },
  "cells": [
    {
      "cell_type": "markdown",
      "metadata": {
        "id": "view-in-github",
        "colab_type": "text"
      },
      "source": [
        "<a href=\"https://colab.research.google.com/github/mitosisgg/ADS509_FinalProject/blob/main/Final_Team_Project_.ipynb\" target=\"_parent\"><img src=\"https://colab.research.google.com/assets/colab-badge.svg\" alt=\"Open In Colab\"/></a>"
      ]
    },
    {
      "cell_type": "code",
      "source": [
        "import pandas as pd\n",
        "import json\n",
        "\n",
        "# JSON file paths\n",
        "files = [\n",
        "    \"/content/business_articles_2025-09-09.json\",\n",
        "    \"/content/entertainment_articles_2025-09-09.json\",\n",
        "    \"/content/general_articles_2025-09-09.json\",\n",
        "    \"/content/health_articles_2025-09-09.json\",\n",
        "    \"/content/science_articles_2025-09-09.json\",\n",
        "    \"/content/sports_articles_2025-09-09.json\",\n",
        "    \"/content/technology_articles_2025-09-09.json\"\n",
        "]\n",
        "\n",
        "rows = []\n",
        "for f in files:\n",
        "    with open(f, \"r\", encoding=\"utf-8\") as infile:\n",
        "        for item in json.load(infile):\n",
        "            src = item.get(\"source\") or {}\n",
        "            rows.append({\n",
        "                \"source_id\": src.get(\"id\"),\n",
        "                \"source_name\": src.get(\"name\"),\n",
        "                \"author\": item.get(\"author\"),\n",
        "                \"title\": item.get(\"title\"),\n",
        "                \"description\": item.get(\"description\"),\n",
        "                \"url\": item.get(\"url\"),\n",
        "                \"urlToImage\": item.get(\"urlToImage\"),\n",
        "                \"publishedAt\": item.get(\"publishedAt\"),\n",
        "                \"content\": item.get(\"content\")\n",
        "            })\n",
        "\n",
        "df = pd.DataFrame(rows)\n",
        "\n",
        "# Transformations\n",
        "df[\"publishedAt\"] = pd.to_datetime(df[\"publishedAt\"], errors=\"coerce\", utc=True)\n",
        "df = df.drop_duplicates(subset=[\"url\"])\n",
        "df = df.sort_values(\"publishedAt\", ascending=False)\n",
        "\n",
        "# Save CSV locally\n",
        "df.to_csv(\"articles.csv\", index=False)\n",
        "print(\"CSV file created: articles.csv\")\n",
        "\n",
        "# First 5 rows\n",
        "df.head()"
      ],
      "metadata": {
        "id": "EOHb62yXgIt9"
      },
      "execution_count": null,
      "outputs": []
    },
    {
      "cell_type": "code",
      "source": [
        "# Download the csv file\n",
        "from google.colab import files\n",
        "files.download(\"articles.csv\")"
      ],
      "metadata": {
        "id": "3GSEy9BOyNn0"
      },
      "execution_count": null,
      "outputs": []
    },
    {
      "cell_type": "code",
      "source": [],
      "metadata": {
        "id": "kj6rern0zHY_"
      },
      "execution_count": null,
      "outputs": []
    }
  ]
}