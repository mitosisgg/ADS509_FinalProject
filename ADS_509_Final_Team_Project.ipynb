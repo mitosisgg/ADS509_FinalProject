{
  "cells": [
    {
      "cell_type": "markdown",
      "metadata": {},
      "source": [
        "# NewsAPI Classification and Text Analysis\n",
        "Authors: Christian Lee, Anahit Shekikyan, Graham Ward "
      ]
    },
    {
      "cell_type": "markdown",
      "metadata": {},
      "source": [
        "## Library Importing"
      ]
    },
    {
      "cell_type": "code",
      "execution_count": 7,
      "metadata": {},
      "outputs": [],
      "source": [
        "import numpy as np\n",
        "import pandas as pd\n",
        "import matplotlib as plt"
      ]
    },
    {
      "cell_type": "markdown",
      "metadata": {},
      "source": [
        "## Function Creations\n",
        "\n",
        "Please use this section to develop functions or place them here from previous assignments"
      ]
    },
    {
      "cell_type": "code",
      "execution_count": null,
      "metadata": {},
      "outputs": [],
      "source": [
        "# Function creations"
      ]
    },
    {
      "cell_type": "markdown",
      "metadata": {},
      "source": [
        "## Data Importing"
      ]
    },
    {
      "cell_type": "code",
      "execution_count": 2,
      "metadata": {
        "id": "EDu-CYTgbP9T"
      },
      "outputs": [
        {
          "name": "stdout",
          "output_type": "stream",
          "text": [
            "   category                                              title  \\\n",
            "0  business  Hasbro leaving Pawtucket for Boston, bringing ...   \n",
            "1  business  Meta suppressed children’s safety research, fo...   \n",
            "2  business  PNC to buy FirstBank for $4.1B, expanding to A...   \n",
            "3  business  Mortgage rates dive on reports of worsening ec...   \n",
            "4  business  US Steel is shutting down a mill in Illinois. ...   \n",
            "\n",
            "                                         description  \\\n",
            "0  Hasbro, the century-old company behind childho...   \n",
            "1  Four whistleblowers share documents with Congr...   \n",
            "2  PNC Financial plans to buy Colorado-based Firs...   \n",
            "3  One housing economist says the 30-year mortgag...   \n",
            "4  US Steel will stop producing steel at its Gran...   \n",
            "\n",
            "                                             content  content_len  \n",
            "0  BOSTON —Hasbro, the century-old company behind...          200  \n",
            "1  Two current and two former Meta employees disc...          200  \n",
            "2  NEW YORK (AP) PNC Financial said Monday that i...          200  \n",
            "3  Mortgage rates are taking a deep dive as finan...          200  \n",
            "4  US Steel is shuttering production at a mill in...          200  \n"
          ]
        }
      ],
      "source": [
        "# import the articles csv into a pandas dataframe for manipulation\n",
        "df = pd.read_csv('articles.csv')\n",
        "\n",
        "# print the head of the dataframe\n",
        "print(df.head())"
      ]
    },
    {
      "cell_type": "markdown",
      "metadata": {},
      "source": [
        "## Initial Descriptive Stats and Data Exploration"
      ]
    },
    {
      "cell_type": "code",
      "execution_count": null,
      "metadata": {},
      "outputs": [
        {
          "name": "stdout",
          "output_type": "stream",
          "text": [
            "Index(['category', 'title', 'description', 'content', 'content_len'], dtype='object')\n",
            "\n",
            " category       object\n",
            "title          object\n",
            "description    object\n",
            "content        object\n",
            "content_len     int64\n",
            "dtype: object\n"
          ]
        }
      ],
      "source": [
        "# print out the unique colummns of the dataframe\n",
        "print(df.columns)\n",
        "# print the data types of each column\n",
        "print(\"\\n\", df.dtypes)"
      ]
    },
    {
      "cell_type": "code",
      "execution_count": 6,
      "metadata": {},
      "outputs": [
        {
          "name": "stdout",
          "output_type": "stream",
          "text": [
            "The number of rows in the dataframe are:  4131\n"
          ]
        }
      ],
      "source": [
        "# print the number of rows in the dataframe\n",
        "print(\"The number of rows in the dataframe are: \", df.shape[0])"
      ]
    },
    {
      "cell_type": "code",
      "execution_count": null,
      "metadata": {},
      "outputs": [],
      "source": [
        "# get counts for each category\n"
      ]
    },
    {
      "cell_type": "markdown",
      "metadata": {},
      "source": [
        "## Data Cleaning and Preprocessing"
      ]
    },
    {
      "cell_type": "code",
      "execution_count": null,
      "metadata": {},
      "outputs": [],
      "source": []
    },
    {
      "cell_type": "markdown",
      "metadata": {},
      "source": [
        "## Exploratory Data Analysis"
      ]
    },
    {
      "cell_type": "code",
      "execution_count": null,
      "metadata": {},
      "outputs": [],
      "source": []
    },
    {
      "cell_type": "markdown",
      "metadata": {},
      "source": [
        "## Data Splitting and Class Imbalance"
      ]
    },
    {
      "cell_type": "code",
      "execution_count": null,
      "metadata": {},
      "outputs": [],
      "source": []
    },
    {
      "cell_type": "markdown",
      "metadata": {},
      "source": [
        "## Model Development (Training, Validation and Testing)"
      ]
    },
    {
      "cell_type": "code",
      "execution_count": null,
      "metadata": {},
      "outputs": [],
      "source": []
    },
    {
      "cell_type": "markdown",
      "metadata": {},
      "source": [
        "## Topic Modeling"
      ]
    },
    {
      "cell_type": "code",
      "execution_count": null,
      "metadata": {},
      "outputs": [],
      "source": []
    },
    {
      "cell_type": "markdown",
      "metadata": {},
      "source": [
        "## Results"
      ]
    },
    {
      "cell_type": "code",
      "execution_count": null,
      "metadata": {},
      "outputs": [],
      "source": []
    }
  ],
  "metadata": {
    "colab": {
      "private_outputs": true,
      "provenance": []
    },
    "kernelspec": {
      "display_name": "ads509",
      "language": "python",
      "name": "python3"
    },
    "language_info": {
      "codemirror_mode": {
        "name": "ipython",
        "version": 3
      },
      "file_extension": ".py",
      "mimetype": "text/x-python",
      "name": "python",
      "nbconvert_exporter": "python",
      "pygments_lexer": "ipython3",
      "version": "3.10.14"
    }
  },
  "nbformat": 4,
  "nbformat_minor": 0
}
